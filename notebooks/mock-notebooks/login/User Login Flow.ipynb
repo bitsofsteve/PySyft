{
 "cells": [
  {
   "cell_type": "markdown",
   "id": "5a9a57a6",
   "metadata": {},
   "source": [
    "### Login into a domain"
   ]
  },
  {
   "cell_type": "markdown",
   "id": "be0cef57",
   "metadata": {},
   "source": [
    "There are two ways a user can login into a domain:\n",
    "\n",
    "1. If the user has access to url of the domain.\n",
    "2. If the user doesn't have the url to a domain, but that the domain is part of a network."
   ]
  },
  {
   "cell_type": "markdown",
   "id": "416b580a",
   "metadata": {},
   "source": [
    "#### Case I - User has access to the url of the domain. \n",
    "----------"
   ]
  },
  {
   "cell_type": "code",
   "execution_count": null,
   "id": "94c2aefe",
   "metadata": {},
   "outputs": [],
   "source": [
    "ca_domain_client = sy.login(\n",
    "    url=\"https://ca.openmined.org\", email=\"sheldon@caltech.edu\", password=\"bazinga\", port=8081, verbose=False\n",
    ")"
   ]
  },
  {
   "cell_type": "markdown",
   "id": "27d42fd0",
   "metadata": {},
   "source": [
    "#### Case II - Logging into the domain through the network\n",
    "----------"
   ]
  },
  {
   "cell_type": "code",
   "execution_count": null,
   "id": "e0db0b36",
   "metadata": {},
   "outputs": [],
   "source": [
    "network_client = sy.networks[0] # Selecting the first network node\n",
    "domain_proxy_client = network_client[0] # Select the first domain node in the network\n",
    "\n",
    "# The user doesn't need to specify the url/port to the domain.\n",
    "# They just need to enter the email and password\n",
    "domain_client = domain_proxy_client.login(\n",
    "    email=\"sheldon@caltech.edu\", password=\"bazinga\", verbose=False\n",
    ")"
   ]
  },
  {
   "cell_type": "markdown",
   "id": "37195f76",
   "metadata": {},
   "source": [
    "#### Different Logging Scenarios\n",
    "----------"
   ]
  },
  {
   "cell_type": "code",
   "execution_count": 5,
   "id": "2cbbf7d2",
   "metadata": {},
   "outputs": [
    {
     "name": "stdout",
     "output_type": "stream",
     "text": [
      "\n",
      "Logging into Canada Domain... \u001b[92m Logged in 🥳\u001b[0m!!\n",
      "\n"
     ]
    }
   ],
   "source": [
    "# Scenario: I\n",
    "# verbose flag = False\n",
    "ca_domain_client = sy.login(\n",
    "    url=\"https://ca.openmined.org\", email=\"sheldon@caltech.edu\", password=\"bazinga\", port=8081, verbose=False\n",
    ")"
   ]
  },
  {
   "cell_type": "code",
   "execution_count": 58,
   "id": "4356a228",
   "metadata": {},
   "outputs": [
    {
     "name": "stdout",
     "output_type": "stream",
     "text": [
      "\n",
      "Connecting to\u001b[1m https://ca.openmined.com \u001b[0m\n",
      "Logging into Canada Domain... \u001b[92m Logged in 🥳\u001b[0m!! \n",
      "Logged in as \u001b[1msheldon@caltech.edu\u001b[0m\n",
      "\n"
     ]
    }
   ],
   "source": [
    "# Scenario: II\n",
    "# verbose flag = True\n",
    "ca_domain_client = sy.login(\n",
    "    url=\"https://ca.openmined.org\", email=\"sheldon@caltech.edu\", \n",
    "    password=\"bazinga\", port=8081, verbose=True\n",
    ")"
   ]
  },
  {
   "cell_type": "code",
   "execution_count": 9,
   "id": "f4123786",
   "metadata": {},
   "outputs": [
    {
     "name": "stdout",
     "output_type": "stream",
     "text": [
      "Please enter your password: ········\n"
     ]
    }
   ],
   "source": [
    "# Scenario: III\n",
    "# verbose flag = True\n",
    "# password is missing in the agruments\n",
    "# Prompt to enter password: (we can use the `getpass` library to hide input)\n",
    "\n",
    "ca_domain_client = sy.login(\n",
    "    url=\"https://ca.openmined.org\", email=\"sheldon@caltech.edu\", \n",
    "    port=8081, verbose=True\n",
    ")"
   ]
  },
  {
   "cell_type": "code",
   "execution_count": 15,
   "id": "4d8260ce",
   "metadata": {},
   "outputs": [
    {
     "name": "stdout",
     "output_type": "stream",
     "text": [
      "Please enter your password: ········\n",
      "\n",
      "Connecting to\u001b[1m https://ca.openmined.com \u001b[0m\n",
      "Logging into Canada Domain... \u001b[92m Logged in 🥳\u001b[0m!! \n",
      "Logged in as \u001b[1msheldon@caltech.edu\u001b[0m\n",
      "\n"
     ]
    }
   ],
   "source": [
    "# verbose flag = True\n",
    "# password is missing in the login arguments,\n",
    "# Prompt to enter password: (use `getpass` to hide input)\n",
    "# If the enter password is correct, login them in.\n",
    "\n",
    "ca_domain_client = sy.login(\n",
    "    url=\"https://ca.openmined.org\", email=\"sheldon@caltech.edu\", \n",
    "    port=8081, verbose=True\n",
    ")"
   ]
  },
  {
   "cell_type": "code",
   "execution_count": 23,
   "id": "1f2fc12d",
   "metadata": {},
   "outputs": [
    {
     "name": "stdout",
     "output_type": "stream",
     "text": [
      "\n",
      "Connecting to\u001b[1m https://ca.openmined.com \u001b[0m\n",
      "Logging into Canada Domain... \u001b[92m\n",
      "\n",
      "\u001b[91mAuthentication Failed:\n",
      "\u001b[0m  Your email and password do not match. Please try again.\n",
      "\n"
     ]
    }
   ],
   "source": [
    "# Scenario: IV\n",
    "# verbose flag = True\n",
    "# password is missing in the login arguments,\n",
    "# If email or password don't match.\n",
    "# throw an Authentication failure message\n",
    "\n",
    "ca_domain_client = sy.login(\n",
    "    url=\"https://ca.openmined.org\", email=\"sheldon@caltech.edu\",\n",
    "    password=\"wrongpassword\", port=8081, verbose=True\n",
    ")"
   ]
  },
  {
   "cell_type": "code",
   "execution_count": 23,
   "id": "0d1e6cb1",
   "metadata": {},
   "outputs": [
    {
     "name": "stdout",
     "output_type": "stream",
     "text": [
      "\n",
      "Connecting to\u001b[1m https://ca.openmined.com \u001b[0m\n",
      "Logging into Canada Domain... \u001b[92m Logged in 🥳\u001b[0m!! \n",
      "Logged in as \u001b[1mGUEST USER\u001b[0m\n",
      "Please use the command:\u001b[1m `syft.register`\u001b[0m to register yourself on to the domain.\n",
      "\n"
     ]
    }
   ],
   "source": [
    "# Scenario: V\n",
    "# verbose flag = True\n",
    "# email is missing or is empty\n",
    "# login the user as a guest\n",
    "\n",
    "ca_domain_client = sy.login(\n",
    "    url=\"https://ca.openmined.org\", port=8081, verbose=True\n",
    ")"
   ]
  },
  {
   "cell_type": "code",
   "execution_count": 40,
   "id": "abd3ebd9",
   "metadata": {},
   "outputs": [
    {
     "name": "stdout",
     "output_type": "stream",
     "text": [
      "\n",
      "Connecting to\u001b[1m https://ca.openmined.com \u001b[0m\n",
      "Logging into Canada Domain... \u001b[92m Logged in 🥳\u001b[0m!! \n",
      "Logged in as \u001b[1mGUEST USER\u001b[0m\n",
      "Please follow the commands, to register yourself to the domain:\n",
      "\n",
      "    \u001b[1m`network = sy.networks[0]`\u001b[0m # Select your network\n",
      "    \u001b[1m`domain_proxy_client = network.domains[0]`\u001b[0m # Select the domain you want to register\n",
      "    \u001b[1m`domain_proxy_client.register`\u001b[0m # Call the .register method\n",
      "\n"
     ]
    }
   ],
   "source": [
    "# verbose flag = True\n",
    "# email is missing or is empty\n",
    "# login the user as a guest\n",
    "# Entering as a guest user through the network\n",
    "\n",
    "network_client = sy.networks[0] # Selecting the first network node\n",
    "domain_proxy_client = network_client[0] # Select the first domain node in the network\n",
    "domain_client = domain_proxy_client.login(verbose=True)"
   ]
  },
  {
   "cell_type": "markdown",
   "id": "0ba158e7",
   "metadata": {},
   "source": [
    "#### Dummy Data"
   ]
  },
  {
   "cell_type": "code",
   "execution_count": 8,
   "id": "e6042a9d",
   "metadata": {},
   "outputs": [],
   "source": [
    "import pandas as pd\n",
    "from enum import Enum\n",
    "import uuid\n",
    "from getpass import getpass\n",
    "\n",
    "\n",
    "class bcolors(Enum):\n",
    "    HEADER = \"\\033[95m\"\n",
    "    OKBLUE = \"\\033[94m\"\n",
    "    OKCYAN = \"\\033[96m\"\n",
    "    OKGREEN = \"\\033[92m\"\n",
    "    WARNING = \"\\033[93m\"\n",
    "    FAIL = \"\\033[91m\"\n",
    "    ENDC = \"\\033[0m\"\n",
    "    BOLD = \"\\033[1m\"\n",
    "    UNDERLINE = \"\\033[4m\""
   ]
  },
  {
   "cell_type": "code",
   "execution_count": 39,
   "id": "2571f810",
   "metadata": {},
   "outputs": [
    {
     "name": "stdout",
     "output_type": "stream",
     "text": [
      "Please enter your password: ········\n"
     ]
    }
   ],
   "source": [
    "# domain logging\n",
    "\n",
    "domain_login_message = f\"\"\"\n",
    "Logging into Canada Domain... {bcolors.OKGREEN.value} Logged in 🥳{bcolors.ENDC.value}!!\n",
    "\"\"\"\n",
    "\n",
    "domain_login_message_verbose = f\"\"\"\n",
    "Connecting to{bcolors.BOLD.value} https://ca.openmined.com {bcolors.ENDC.value}\n",
    "Logging into Canada Domain... {bcolors.OKGREEN.value} Logged in 🥳{bcolors.ENDC.value}!! \n",
    "Logged in as {bcolors.BOLD.value}sheldon@caltech.edu{bcolors.ENDC.value}\n",
    "\"\"\"\n",
    "\n",
    "\n",
    "password_missing = f\"\"\"{getpass(\"Please enter your password: \")}\"\"\"\n",
    "\n",
    "domain_email_pwd_is_wrong = f\"\"\"\n",
    "Connecting to{bcolors.BOLD.value} https://ca.openmined.com {bcolors.ENDC.value}\n",
    "Logging into Canada Domain... {bcolors.OKGREEN.value}\n",
    "\n",
    "{bcolors.FAIL.value}Authentication Failed:\n",
    "{bcolors.ENDC.value}  Your email and password do not match. Please try again.\n",
    "\"\"\"\n",
    "\n",
    "domain_as_guest_user = f\"\"\"\n",
    "Connecting to{bcolors.BOLD.value} https://ca.openmined.com {bcolors.ENDC.value}\n",
    "Logging into Canada Domain... {bcolors.OKGREEN.value} Logged in 🥳{bcolors.ENDC.value}!! \n",
    "Logged in as {bcolors.BOLD.value}GUEST USER{bcolors.ENDC.value}\n",
    "Please use the command:{bcolors.BOLD.value} `syft.register`{bcolors.ENDC.value} to register yourself on to the domain.\n",
    "\"\"\"\n",
    "\n",
    "domain_as_guest_user_via_network = f\"\"\"\n",
    "Connecting to{bcolors.BOLD.value} https://ca.openmined.com {bcolors.ENDC.value}\n",
    "Logging into Canada Domain... {bcolors.OKGREEN.value} Logged in 🥳{bcolors.ENDC.value}!! \n",
    "Logged in as {bcolors.BOLD.value}GUEST USER{bcolors.ENDC.value}\n",
    "Please follow the commands, to register yourself to the domain:\n",
    "\n",
    "    {bcolors.BOLD.value}`network = sy.networks[0]`{bcolors.ENDC.value} # Select your network\n",
    "    {bcolors.BOLD.value}`domain_proxy_client = network.domains[0]`{bcolors.ENDC.value} # Select the domain you want to register\n",
    "    {bcolors.BOLD.value}`domain_proxy_client.register`{bcolors.ENDC.value} # Call the .register method\n",
    "\"\"\""
   ]
  },
  {
   "cell_type": "code",
   "execution_count": null,
   "id": "e05c5646",
   "metadata": {},
   "outputs": [],
   "source": []
  }
 ],
 "metadata": {
  "kernelspec": {
   "display_name": "Python 3 (ipykernel)",
   "language": "python",
   "name": "python3"
  },
  "language_info": {
   "codemirror_mode": {
    "name": "ipython",
    "version": 3
   },
   "file_extension": ".py",
   "mimetype": "text/x-python",
   "name": "python",
   "nbconvert_exporter": "python",
   "pygments_lexer": "ipython3",
   "version": "3.9.7"
  }
 },
 "nbformat": 4,
 "nbformat_minor": 5
}
